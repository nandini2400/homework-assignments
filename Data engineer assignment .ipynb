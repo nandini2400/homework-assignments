{
 "cells": [
  {
   "cell_type": "code",
   "execution_count": 29,
   "id": "bd36521c",
   "metadata": {},
   "outputs": [
    {
     "name": "stdout",
     "output_type": "stream",
     "text": [
      "enter the first number3\n",
      "enter the second number3\n",
      "final result is 6\n",
      "###next method###\n",
      "final result using functions is 7\n"
     ]
    }
   ],
   "source": [
    "#Exercise 1: Basic Arithmetic and Conditionals\n",
    "#Write a program to calculate the sum and average of numbers.\n",
    "num1  = int(input(\"enter the first number\"))\n",
    "num2 = int(input(\"enter the second number\"))\n",
    "\n",
    "add = num1+num2\n",
    "print(f\"final result is {add}\")\n",
    "\n",
    "# using functions\n",
    "def sum_of_numbers(a,b):\n",
    "    return (a+b)\n",
    "result = sum_of_numbers(3,4)\n",
    "\n",
    "print(f\"final result using functions is {result}\")\n",
    "\n"
   ]
  },
  {
   "cell_type": "code",
   "execution_count": 35,
   "id": "225b606d",
   "metadata": {},
   "outputs": [
    {
     "name": "stdout",
     "output_type": "stream",
     "text": [
      "cba\n"
     ]
    }
   ],
   "source": [
    "#Exercise 2: Functions and String Operations\n",
    "#Write a function that accepts a string, reverses it, and returns the reversed string.\n",
    "\n",
    "str1 = \"abc\"\n",
    "rev = \"\"\n",
    "for char in  str1:\n",
    "    rev = char+rev \n",
    "print(rev)\n",
    "    "
   ]
  },
  {
   "cell_type": "code",
   "execution_count": 41,
   "id": "362e8b2a",
   "metadata": {},
   "outputs": [
    {
     "name": "stdout",
     "output_type": "stream",
     "text": [
      "2.0\n",
      "cannot divide by zero\n"
     ]
    }
   ],
   "source": [
    "#Exercise 3:Try-Except with Lambda\n",
    "#Create a function that uses a lambda to divide x by y and handles multiple potential errors using try-except.\n",
    "\n",
    "\n",
    "import math \n",
    "div = lambda x,y:x/y\n",
    "print(div(4,2))\n",
    "x=4\n",
    "y=0\n",
    "try:\n",
    "    result = x/y\n",
    "except ZeroDivisionError:\n",
    "    print(\"cannot divide by zero\")\n",
    "except TypeError:\n",
    "    print('error2')"
   ]
  },
  {
   "cell_type": "code",
   "execution_count": null,
   "id": "7241814c",
   "metadata": {},
   "outputs": [],
   "source": []
  }
 ],
 "metadata": {
  "kernelspec": {
   "display_name": "Python 3 (ipykernel)",
   "language": "python",
   "name": "python3"
  },
  "language_info": {
   "codemirror_mode": {
    "name": "ipython",
    "version": 3
   },
   "file_extension": ".py",
   "mimetype": "text/x-python",
   "name": "python",
   "nbconvert_exporter": "python",
   "pygments_lexer": "ipython3",
   "version": "3.10.9"
  }
 },
 "nbformat": 4,
 "nbformat_minor": 5
}
